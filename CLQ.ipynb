{
 "cells": [
  {
   "cell_type": "markdown",
   "metadata": {},
   "source": [
    "# [4. CLQ]\n",
    "\n",
    "We have implemented the command line script leveraging the `sqlite3` command. In this way we were able to load the dataset into a temporary SQL database and to filter it using queries. \n",
    "\n",
    "Some notes on how we solved the three tasks:\n",
    "1. __What is the most-watched Netflix title?__: in order to find the most watched film we used the `duration` column. We considered a film as seen if the value was $>0$, otherwhise the user simply clicked on that page without pushing the 'play' button. We have left, and commented, the code to find the Top-10 most watched films (un-comment it if you want to run it).\n",
    "2. __Report the average time between subsequent clicks on Netflix.com__: we evaluated the average click duration among all the clicks, of all the users, in the dataset. We began with converting the `datetime` column into seconds (integer). Then we have built a new SQL table that has been filled with three new columns `datetime_int` (the `datetime` column converted to seconds), `previous_datetime_int` (the datetime of the previous click), and `difference` (their difference in seconds). Finally the result is the average of the `difference` column.\n",
    "3. __Provide the ID of the user that has spent the most time on Netflix__: we have left, and commented, the code to find the Top-10 users by time spent (un-comment it if you want to run it).\n",
    "\n",
    "Here you can find the [`CommandLine.sh`](CommandLine.sh) script, and below there is the screenshot with its output.\n",
    "\n",
    "![CLQ Output](clq-output.png)"
   ]
  }
 ],
 "metadata": {
  "language_info": {
   "name": "python"
  }
 },
 "nbformat": 4,
 "nbformat_minor": 2
}
