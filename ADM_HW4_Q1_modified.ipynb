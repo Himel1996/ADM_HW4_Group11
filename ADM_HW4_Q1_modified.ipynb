{
 "cells": [
  {
   "cell_type": "markdown",
   "metadata": {},
   "source": [
    "## **Libraries needed to run the notebook**"
   ]
  },
  {
   "cell_type": "code",
   "execution_count": 1,
   "metadata": {},
   "outputs": [],
   "source": [
    "# All the libraries needed to run the Notebook\n",
    "\n",
    "from itertools import chain\n",
    "import pandas as pd\n",
    "from functions import extract_top_movies_per_user\n",
    "from functions import minhash_signature\n",
    "from functions import our_hash_function\n",
    "from functions import lsh\n",
    "from functions import jaccard_similarity\n",
    "from functions import find_nearest_neighbors\n",
    "from functions import recommend_movies\n"
   ]
  },
  {
   "cell_type": "markdown",
   "metadata": {},
   "source": [
    "# **1. Recommendation system** \n"
   ]
  },
  {
   "cell_type": "markdown",
   "metadata": {},
   "source": [
    "The exercise asks to gather the top 10 movies clicked by each user, therefore I implemented a function named \"extract_top_movies_per_user\". This function takes in input the path of the dataset and returns a new dataset with the following details for each user:\n",
    "\n",
    "- *user_id:* The unique identifier of the user\n",
    "- *title:* The title of the movie\n",
    "- *genres:* The genres of the movie\n",
    "- *click_count:* The number of times the user clicked on the movie\n",
    "\n",
    "The function uses pandas to read the dataset, groups the data by user_id, title, and genres, calculates the click count for each movie, and then selects the top 10 movies with the highest click counts for each user. The resulting dataset is sorted by user_id and click_count.\n"
   ]
  },
  {
   "cell_type": "code",
   "execution_count": 2,
   "metadata": {},
   "outputs": [
    {
     "data": {
      "text/html": [
       "<div>\n",
       "<style scoped>\n",
       "    .dataframe tbody tr th:only-of-type {\n",
       "        vertical-align: middle;\n",
       "    }\n",
       "\n",
       "    .dataframe tbody tr th {\n",
       "        vertical-align: top;\n",
       "    }\n",
       "\n",
       "    .dataframe thead th {\n",
       "        text-align: right;\n",
       "    }\n",
       "</style>\n",
       "<table border=\"1\" class=\"dataframe\">\n",
       "  <thead>\n",
       "    <tr style=\"text-align: right;\">\n",
       "      <th></th>\n",
       "      <th>user_id</th>\n",
       "      <th>title</th>\n",
       "      <th>genres</th>\n",
       "      <th>click_count</th>\n",
       "    </tr>\n",
       "  </thead>\n",
       "  <tbody>\n",
       "    <tr>\n",
       "      <th>0</th>\n",
       "      <td>00004e2862</td>\n",
       "      <td>Hannibal</td>\n",
       "      <td>Crime, Drama, Thriller</td>\n",
       "      <td>1</td>\n",
       "    </tr>\n",
       "    <tr>\n",
       "      <th>6</th>\n",
       "      <td>000052a0a0</td>\n",
       "      <td>Looper</td>\n",
       "      <td>Action, Drama, Sci-Fi, Thriller</td>\n",
       "      <td>9</td>\n",
       "    </tr>\n",
       "    <tr>\n",
       "      <th>3</th>\n",
       "      <td>000052a0a0</td>\n",
       "      <td>Frailty</td>\n",
       "      <td>Crime, Drama, Thriller</td>\n",
       "      <td>3</td>\n",
       "    </tr>\n",
       "    <tr>\n",
       "      <th>5</th>\n",
       "      <td>000052a0a0</td>\n",
       "      <td>Jumanji</td>\n",
       "      <td>Adventure, Comedy, Family, Fantasy</td>\n",
       "      <td>3</td>\n",
       "    </tr>\n",
       "    <tr>\n",
       "      <th>7</th>\n",
       "      <td>000052a0a0</td>\n",
       "      <td>Resident Evil</td>\n",
       "      <td>Action, Horror, Sci-Fi</td>\n",
       "      <td>2</td>\n",
       "    </tr>\n",
       "    <tr>\n",
       "      <th>1</th>\n",
       "      <td>000052a0a0</td>\n",
       "      <td>Ant-Man</td>\n",
       "      <td>Action, Adventure, Comedy, Sci-Fi</td>\n",
       "      <td>1</td>\n",
       "    </tr>\n",
       "    <tr>\n",
       "      <th>2</th>\n",
       "      <td>000052a0a0</td>\n",
       "      <td>Drive Angry</td>\n",
       "      <td>Action, Fantasy, Thriller</td>\n",
       "      <td>1</td>\n",
       "    </tr>\n",
       "    <tr>\n",
       "      <th>4</th>\n",
       "      <td>000052a0a0</td>\n",
       "      <td>Green Room</td>\n",
       "      <td>Horror, Music, Thriller</td>\n",
       "      <td>1</td>\n",
       "    </tr>\n",
       "    <tr>\n",
       "      <th>8</th>\n",
       "      <td>000052a0a0</td>\n",
       "      <td>Resident Evil: Retribution</td>\n",
       "      <td>Action, Horror, Sci-Fi, Thriller</td>\n",
       "      <td>1</td>\n",
       "    </tr>\n",
       "    <tr>\n",
       "      <th>9</th>\n",
       "      <td>000052a0a0</td>\n",
       "      <td>The Big Lebowski</td>\n",
       "      <td>Comedy, Crime, Sport</td>\n",
       "      <td>1</td>\n",
       "    </tr>\n",
       "  </tbody>\n",
       "</table>\n",
       "</div>"
      ],
      "text/plain": [
       "      user_id                       title                              genres  \\\n",
       "0  00004e2862                    Hannibal              Crime, Drama, Thriller   \n",
       "6  000052a0a0                      Looper     Action, Drama, Sci-Fi, Thriller   \n",
       "3  000052a0a0                     Frailty              Crime, Drama, Thriller   \n",
       "5  000052a0a0                     Jumanji  Adventure, Comedy, Family, Fantasy   \n",
       "7  000052a0a0               Resident Evil              Action, Horror, Sci-Fi   \n",
       "1  000052a0a0                     Ant-Man   Action, Adventure, Comedy, Sci-Fi   \n",
       "2  000052a0a0                 Drive Angry           Action, Fantasy, Thriller   \n",
       "4  000052a0a0                  Green Room             Horror, Music, Thriller   \n",
       "8  000052a0a0  Resident Evil: Retribution    Action, Horror, Sci-Fi, Thriller   \n",
       "9  000052a0a0            The Big Lebowski                Comedy, Crime, Sport   \n",
       "\n",
       "   click_count  \n",
       "0            1  \n",
       "6            9  \n",
       "3            3  \n",
       "5            3  \n",
       "7            2  \n",
       "1            1  \n",
       "2            1  \n",
       "4            1  \n",
       "8            1  \n",
       "9            1  "
      ]
     },
     "execution_count": 2,
     "metadata": {},
     "output_type": "execute_result"
    }
   ],
   "source": [
    "top_movies_per_user = extract_top_movies_per_user('vodclickstream_uk_movies_03.csv')\n",
    "\n",
    "# Printing only the first 10 rows to provide an overview of the dataset\n",
    "top_movies_per_user.head(10)"
   ]
  },
  {
   "cell_type": "markdown",
   "metadata": {},
   "source": [
    "## **1.2 Minhash Signatures**"
   ]
  },
  {
   "cell_type": "markdown",
   "metadata": {},
   "source": [
    "To calculate the MinHash signature, we started the process by building a *shingle matrix* for each user. This matrix was built by enumerating all possible genres, assigning unique integers to them, and creating a list for each user. In this list, each position was set to 1 if the genre at that position in the list of all possible genres was present in the user's list of preferred genres; otherwise, the position was set to zero.\n",
    "\n",
    "After building the shingle matrix, we proceeded to calculate the MinHash signature using the minhash_signature function. This function returns a list representing the MinHash signature for the given user based on their preferred genres. The input parameters for this function include:\n",
    "- *user_genres:* List of preferred genres for the user\n",
    "- *num_hashes:* Number of hash functions to use\n",
    "- *genre_dict:* Dictionary mapping genres to unique integers\n",
    "- *num_total_genres:* Total number of unique genres in the dataset\n",
    "\n",
    "To calculate the hash function it was not used any already implemented function, as requested. We chose 100 for the number of hashes since it is generally considered a good amount of hashes for Minhashing."
   ]
  },
  {
   "cell_type": "code",
   "execution_count": 3,
   "metadata": {},
   "outputs": [],
   "source": [
    "# Dictionary that keeps track of each users' preferred genres\n",
    "user_genres_dict = top_movies_per_user.groupby('user_id')['genres'].apply(list).to_dict()\n",
    "\n",
    "# Making a list of all unique genres in the dataset and assigning a unique integer to each genre to build the shingle matrix in the minhash function for each user\n",
    "all_genres = sorted(list(set(chain.from_iterable([genre.split(', ') if isinstance(genre, str) else genre for genre in top_movies_per_user['genres']]))))\n",
    "genre_dict = {genre: i for i, genre in enumerate(all_genres)}\n",
    "num_total_genres = len(all_genres)\n",
    "    \n",
    "# Using the defined function to calculate the MinHash signatures for all users\n",
    "num_hashes = 100\n",
    "minhash_signatures = {user_id: minhash_signature(genres, num_hashes, genre_dict, num_total_genres) for user_id, genres in user_genres_dict.items()}\n"
   ]
  },
  {
   "cell_type": "markdown",
   "metadata": {},
   "source": [
    "## **1.3 Locality-Sensitive Hashing (LSH)**\n",
    "\n",
    "Now that we have a dictionary containing the signatures for each user, we can utilize the Locality-Sensitive Hashing (LSH) algorithm to identify users with similar interests. In this algorithm, users with similar signatures are grouped into the same bucket. This approach helps in reducing the number of users for which we need to calculate the Jaccard similarity.\n",
    "\n",
    "To find the two users most similar users to the input user, we calculate the Jaccard Similarity for all users in the bucket where the input user is present. We then select the two users with the highest similarity scores. This process is done through the 'find_nearest_neighbors' function, which first executes the LSH algorithm to organize users into buckets based on their MinHash signatures and then calculates the similarity scores to find the **two most similar users**. The function takes the following inputs:\n",
    "- target_user: The user for which we want to find the most similar users\n",
    "- minhash_signatures: The dictionary containing the MinHash signatures for each user\n",
    "- bands: The number of bands used in the LSH algorithm\n",
    "- rows_per_band: The number of rows per band in the LSH algorithm\n",
    "\n",
    "We selected an adequate number of bands and rows to make sure that the similarity measure between users is not too restrictive."
   ]
  },
  {
   "cell_type": "code",
   "execution_count": 34,
   "metadata": {},
   "outputs": [
    {
     "name": "stdout",
     "output_type": "stream",
     "text": [
      "The two most similar users to 9966728c1c are: ['004f54b636', '00ca88823f']\n"
     ]
    }
   ],
   "source": [
    "# Target user is the user which we want to recommend movies to\n",
    "target_user = '9966728c1c'\n",
    "bands = 6\n",
    "rows_per_band = 10\n",
    "    \n",
    "most_similar_users = find_nearest_neighbors(target_user, minhash_signatures, bands, rows_per_band)\n",
    "\n",
    "print(f\"The two most similar users to {target_user} are: {most_similar_users}\")\n"
   ]
  },
  {
   "cell_type": "markdown",
   "metadata": {},
   "source": [
    "Now that we have identified the two most similar neighbors, we can proceed to recommend movies as specified by the exercise, choosing first the movies that these two users have in common, in order based on the number of clicks, and then if there are no more common movies, choosing the most clicked movies by the most similar user first, followed by the other user.\n",
    "We proceeded to recommend movies using the \"recommend_movies\" function, which takes as input:\n",
    "- *most_similar_users:* list containing the two most similar users\n",
    "- *top_movies_per_user:* DataFrame containing information about the top movies per user\n",
    "\n",
    " And returns the list of recommended movies, in order."
   ]
  },
  {
   "cell_type": "code",
   "execution_count": 35,
   "metadata": {},
   "outputs": [
    {
     "name": "stdout",
     "output_type": "stream",
     "text": [
      "{'004f54b636': {'The Martian', 'Bright', \"Daddy's Home\", 'Ip Man 3'}, '00ca88823f': {'Ip Man 2', 'The Great Gatsby', '21 Jump Street', 'Ip Man', 'Ip Man 3'}}\n",
      "Recommended movies for user \"9966728c1c\":\n",
      "Ip Man 3\n",
      "Bright\n",
      "Daddy's Home\n",
      "The Martian\n",
      "The Great Gatsby\n"
     ]
    }
   ],
   "source": [
    "recommended_movies = recommend_movies(most_similar_users, top_movies_per_user)\n",
    "\n",
    "print(f\"Recommended movies for user \\\"{target_user}\\\":\")\n",
    "for movie in recommended_movies:\n",
    "    print(movie)"
   ]
  },
  {
   "cell_type": "markdown",
   "metadata": {},
   "source": [
    "As we can see from the above example, if there are common movies between the two most similar users , the algorithm chooses them first based on the number of clicks, and then, if the number of recommendations is not enough, it chooses the moviest from the most similar user first and then from the second most similar user."
   ]
  },
  {
   "cell_type": "code",
   "execution_count": 33,
   "metadata": {},
   "outputs": [
    {
     "name": "stdout",
     "output_type": "stream",
     "text": [
      "{'058fae3544': {\"Child's Play\", 'Before I Wake'}, '06d8685ddb': {'IBOY', 'Cold Skin', 'Hardcore'}}\n",
      "Recommended movies for user \"1ec083a8bd\":\n",
      "Child's Play\n",
      "Before I Wake\n",
      "Cold Skin\n",
      "Hardcore\n",
      "IBOY\n"
     ]
    }
   ],
   "source": [
    "target_user = '1ec083a8bd'\n",
    "\n",
    "most_similar_users = find_nearest_neighbors(target_user, minhash_signatures, bands, rows_per_band)\n",
    "print(f\"The two most similar users to {target_user} are: {most_similar_users}\")\n",
    "\n",
    "recommended_movies = recommend_movies(most_similar_users, top_movies_per_user)\n",
    "\n",
    "print(f\"Recommended movies for user \\\"{target_user}\\\":\")\n",
    "for movie in recommended_movies:\n",
    "    print(movie)"
   ]
  },
  {
   "cell_type": "markdown",
   "metadata": {},
   "source": [
    "And as we can see from the second example, if there no common movies, the algorithm chooses the movies directly in order of number of clicks first from the most similar user and then from the second most similar user."
   ]
  }
 ],
 "metadata": {
  "kernelspec": {
   "display_name": "Python 3",
   "language": "python",
   "name": "python3"
  },
  "language_info": {
   "codemirror_mode": {
    "name": "ipython",
    "version": 3
   },
   "file_extension": ".py",
   "mimetype": "text/x-python",
   "name": "python",
   "nbconvert_exporter": "python",
   "pygments_lexer": "ipython3",
   "version": "3.11.2"
  }
 },
 "nbformat": 4,
 "nbformat_minor": 2
}
